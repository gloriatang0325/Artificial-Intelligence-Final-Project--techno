{
 "cells": [
  {
   "cell_type": "markdown",
   "metadata": {},
   "source": [
    "**Transfer Learning with Pre-trained Model Musicnn**"
   ]
  },
  {
   "cell_type": "code",
   "execution_count": 1,
   "metadata": {},
   "outputs": [
    {
     "name": "stderr",
     "output_type": "stream",
     "text": [
      "E:\\etc\\conda\\lib\\site-packages\\numpy\\core\\__init__.py:29: UserWarning: loaded more than 1 DLL from .libs:\n",
      "E:\\etc\\conda\\lib\\site-packages\\numpy\\.libs\\libopenblas.PYQHXLVVQ7VESDPUVUADXEVJOBGHJPAY.gfortran-win_amd64.dll\n",
      "E:\\etc\\conda\\lib\\site-packages\\numpy\\.libs\\libopenblas.TXA6YQSD3GCQQC22GEQ54J2UDCXDXHWN.gfortran-win_amd64.dll\n",
      "  stacklevel=1)\n"
     ]
    },
    {
     "data": {
      "text/plain": [
       "'1.15.0'"
      ]
     },
     "execution_count": 1,
     "metadata": {},
     "output_type": "execute_result"
    }
   ],
   "source": [
    "import musicnn\n",
    "from musicnn.tagger import extractor\n",
    "import os\n",
    "import tensorflow as tf\n",
    "import numpy as np\n",
    "tf.VERSION "
   ]
  },
  {
   "cell_type": "code",
   "execution_count": 2,
   "metadata": {},
   "outputs": [
    {
     "ename": "NameError",
     "evalue": "name 'features' is not defined",
     "output_type": "error",
     "traceback": [
      "\u001b[1;31m---------------------------------------------------------------------------\u001b[0m",
      "\u001b[1;31mNameError\u001b[0m                                 Traceback (most recent call last)",
      "\u001b[1;32m<ipython-input-2-ceefec8a749f>\u001b[0m in \u001b[0;36m<module>\u001b[1;34m\u001b[0m\n\u001b[1;32m----> 1\u001b[1;33m \u001b[0mlist\u001b[0m\u001b[1;33m(\u001b[0m\u001b[0mfeatures\u001b[0m\u001b[1;33m.\u001b[0m\u001b[0mkeys\u001b[0m\u001b[1;33m(\u001b[0m\u001b[1;33m)\u001b[0m\u001b[1;33m)\u001b[0m \u001b[1;31m#list the key layers of the musicnn model\u001b[0m\u001b[1;33m\u001b[0m\u001b[1;33m\u001b[0m\u001b[0m\n\u001b[0m",
      "\u001b[1;31mNameError\u001b[0m: name 'features' is not defined"
     ]
    }
   ],
   "source": [
    "list(features.keys()) #list the key layers of the musicnn model"
   ]
  },
  {
   "cell_type": "code",
   "execution_count": 21,
   "metadata": {},
   "outputs": [
    {
     "data": {
      "text/plain": [
       "200"
      ]
     },
     "execution_count": 21,
     "metadata": {},
     "output_type": "execute_result"
    }
   ],
   "source": [
    "features['penultimate'][1,:] #check the size of last layer output"
   ]
  },
  {
   "cell_type": "code",
   "execution_count": 14,
   "metadata": {},
   "outputs": [],
   "source": [
    "House_dir='E:/techno/Minimal Techno'\n",
    "all_files = os.listdir(House_dir) #input audio directory"
   ]
  },
  {
   "cell_type": "code",
   "execution_count": 15,
   "metadata": {},
   "outputs": [
    {
     "name": "stdout",
     "output_type": "stream",
     "text": [
      "Computing spectrogram (w/ librosa) and tags (w/ tensorflow).. done!\n",
      "Computing spectrogram (w/ librosa) and tags (w/ tensorflow).. done!\n",
      "Computing spectrogram (w/ librosa) and tags (w/ tensorflow).. done!\n",
      "Computing spectrogram (w/ librosa) and tags (w/ tensorflow).. done!\n",
      "Computing spectrogram (w/ librosa) and tags (w/ tensorflow).. done!\n",
      "Computing spectrogram (w/ librosa) and tags (w/ tensorflow).. done!\n",
      "Computing spectrogram (w/ librosa) and tags (w/ tensorflow).. done!\n",
      "Computing spectrogram (w/ librosa) and tags (w/ tensorflow).. done!\n",
      "Computing spectrogram (w/ librosa) and tags (w/ tensorflow).. done!\n",
      "Computing spectrogram (w/ librosa) and tags (w/ tensorflow).. done!\n",
      "Computing spectrogram (w/ librosa) and tags (w/ tensorflow).. done!\n",
      "Computing spectrogram (w/ librosa) and tags (w/ tensorflow).. done!\n",
      "Computing spectrogram (w/ librosa) and tags (w/ tensorflow).. done!\n",
      "Computing spectrogram (w/ librosa) and tags (w/ tensorflow).. done!\n",
      "Computing spectrogram (w/ librosa) and tags (w/ tensorflow).. done!\n",
      "Computing spectrogram (w/ librosa) and tags (w/ tensorflow).. done!\n",
      "Computing spectrogram (w/ librosa) and tags (w/ tensorflow).. done!\n",
      "Computing spectrogram (w/ librosa) and tags (w/ tensorflow).. done!\n",
      "Computing spectrogram (w/ librosa) and tags (w/ tensorflow).. done!\n",
      "Computing spectrogram (w/ librosa) and tags (w/ tensorflow).. done!\n",
      "Computing spectrogram (w/ librosa) and tags (w/ tensorflow).. done!\n",
      "Computing spectrogram (w/ librosa) and tags (w/ tensorflow).. done!\n",
      "Computing spectrogram (w/ librosa) and tags (w/ tensorflow).. done!\n",
      "Computing spectrogram (w/ librosa) and tags (w/ tensorflow).. done!\n",
      "Computing spectrogram (w/ librosa) and tags (w/ tensorflow).. done!\n",
      "Computing spectrogram (w/ librosa) and tags (w/ tensorflow).. done!\n",
      "Computing spectrogram (w/ librosa) and tags (w/ tensorflow).. done!\n",
      "Computing spectrogram (w/ librosa) and tags (w/ tensorflow).. done!\n",
      "Computing spectrogram (w/ librosa) and tags (w/ tensorflow).. done!\n",
      "Computing spectrogram (w/ librosa) and tags (w/ tensorflow).. done!\n",
      "Computing spectrogram (w/ librosa) and tags (w/ tensorflow).. done!\n",
      "Computing spectrogram (w/ librosa) and tags (w/ tensorflow).. done!\n",
      "Computing spectrogram (w/ librosa) and tags (w/ tensorflow).. done!\n",
      "Computing spectrogram (w/ librosa) and tags (w/ tensorflow).. done!\n",
      "Computing spectrogram (w/ librosa) and tags (w/ tensorflow).. done!\n",
      "Computing spectrogram (w/ librosa) and tags (w/ tensorflow).. done!\n",
      "Computing spectrogram (w/ librosa) and tags (w/ tensorflow).. done!\n",
      "Computing spectrogram (w/ librosa) and tags (w/ tensorflow).. done!\n",
      "Computing spectrogram (w/ librosa) and tags (w/ tensorflow).. done!\n",
      "Computing spectrogram (w/ librosa) and tags (w/ tensorflow).. done!\n",
      "Computing spectrogram (w/ librosa) and tags (w/ tensorflow).. done!\n",
      "Computing spectrogram (w/ librosa) and tags (w/ tensorflow).. done!\n",
      "Computing spectrogram (w/ librosa) and tags (w/ tensorflow).. done!\n",
      "Computing spectrogram (w/ librosa) and tags (w/ tensorflow).. done!\n",
      "Computing spectrogram (w/ librosa) and tags (w/ tensorflow).. done!\n",
      "Computing spectrogram (w/ librosa) and tags (w/ tensorflow).. done!\n",
      "Computing spectrogram (w/ librosa) and tags (w/ tensorflow).. done!\n",
      "Computing spectrogram (w/ librosa) and tags (w/ tensorflow).. done!\n",
      "Computing spectrogram (w/ librosa) and tags (w/ tensorflow).. done!\n",
      "Computing spectrogram (w/ librosa) and tags (w/ tensorflow).. done!\n",
      "Computing spectrogram (w/ librosa) and tags (w/ tensorflow).. done!\n",
      "Computing spectrogram (w/ librosa) and tags (w/ tensorflow).. done!\n",
      "Computing spectrogram (w/ librosa) and tags (w/ tensorflow).. done!\n",
      "Computing spectrogram (w/ librosa) and tags (w/ tensorflow).. done!\n",
      "Computing spectrogram (w/ librosa) and tags (w/ tensorflow).. done!\n",
      "Computing spectrogram (w/ librosa) and tags (w/ tensorflow).. done!\n",
      "Computing spectrogram (w/ librosa) and tags (w/ tensorflow).. done!\n",
      "Computing spectrogram (w/ librosa) and tags (w/ tensorflow).. done!\n",
      "Computing spectrogram (w/ librosa) and tags (w/ tensorflow).. done!\n",
      "Computing spectrogram (w/ librosa) and tags (w/ tensorflow).. done!\n",
      "Computing spectrogram (w/ librosa) and tags (w/ tensorflow).. done!\n",
      "Computing spectrogram (w/ librosa) and tags (w/ tensorflow).. done!\n",
      "Computing spectrogram (w/ librosa) and tags (w/ tensorflow).. done!\n",
      "Computing spectrogram (w/ librosa) and tags (w/ tensorflow).. done!\n",
      "Computing spectrogram (w/ librosa) and tags (w/ tensorflow).. done!\n",
      "Computing spectrogram (w/ librosa) and tags (w/ tensorflow).. done!\n",
      "Computing spectrogram (w/ librosa) and tags (w/ tensorflow).. done!\n",
      "Computing spectrogram (w/ librosa) and tags (w/ tensorflow).. done!\n",
      "Computing spectrogram (w/ librosa) and tags (w/ tensorflow).. done!\n",
      "Computing spectrogram (w/ librosa) and tags (w/ tensorflow).. done!\n",
      "Computing spectrogram (w/ librosa) and tags (w/ tensorflow).. done!\n",
      "Computing spectrogram (w/ librosa) and tags (w/ tensorflow).. done!\n",
      "Computing spectrogram (w/ librosa) and tags (w/ tensorflow).. done!\n",
      "Computing spectrogram (w/ librosa) and tags (w/ tensorflow).. done!\n",
      "Computing spectrogram (w/ librosa) and tags (w/ tensorflow).. done!\n",
      "Computing spectrogram (w/ librosa) and tags (w/ tensorflow).. done!\n",
      "Computing spectrogram (w/ librosa) and tags (w/ tensorflow).. done!\n",
      "Computing spectrogram (w/ librosa) and tags (w/ tensorflow).. done!\n",
      "Computing spectrogram (w/ librosa) and tags (w/ tensorflow).. done!\n",
      "Computing spectrogram (w/ librosa) and tags (w/ tensorflow).. done!\n",
      "Computing spectrogram (w/ librosa) and tags (w/ tensorflow).. done!\n",
      "Computing spectrogram (w/ librosa) and tags (w/ tensorflow).. done!\n",
      "Computing spectrogram (w/ librosa) and tags (w/ tensorflow).. done!\n",
      "Computing spectrogram (w/ librosa) and tags (w/ tensorflow).. done!\n",
      "Computing spectrogram (w/ librosa) and tags (w/ tensorflow).. done!\n",
      "Computing spectrogram (w/ librosa) and tags (w/ tensorflow).. done!\n",
      "Computing spectrogram (w/ librosa) and tags (w/ tensorflow).. done!\n",
      "Computing spectrogram (w/ librosa) and tags (w/ tensorflow).. done!\n",
      "Computing spectrogram (w/ librosa) and tags (w/ tensorflow).. done!\n",
      "Computing spectrogram (w/ librosa) and tags (w/ tensorflow).. done!\n",
      "Computing spectrogram (w/ librosa) and tags (w/ tensorflow).. done!\n",
      "Computing spectrogram (w/ librosa) and tags (w/ tensorflow).. done!\n",
      "Computing spectrogram (w/ librosa) and tags (w/ tensorflow).. done!\n",
      "Computing spectrogram (w/ librosa) and tags (w/ tensorflow).. done!\n",
      "Computing spectrogram (w/ librosa) and tags (w/ tensorflow).. done!\n",
      "Computing spectrogram (w/ librosa) and tags (w/ tensorflow).. done!\n",
      "Computing spectrogram (w/ librosa) and tags (w/ tensorflow).. done!\n",
      "Computing spectrogram (w/ librosa) and tags (w/ tensorflow).. done!\n",
      "Computing spectrogram (w/ librosa) and tags (w/ tensorflow).. done!\n",
      "Computing spectrogram (w/ librosa) and tags (w/ tensorflow).. done!\n",
      "Computing spectrogram (w/ librosa) and tags (w/ tensorflow).. done!\n",
      "Computing spectrogram (w/ librosa) and tags (w/ tensorflow).. done!\n",
      "Computing spectrogram (w/ librosa) and tags (w/ tensorflow).. done!\n",
      "Computing spectrogram (w/ librosa) and tags (w/ tensorflow).. done!\n",
      "Computing spectrogram (w/ librosa) and tags (w/ tensorflow).. done!\n",
      "Computing spectrogram (w/ librosa) and tags (w/ tensorflow).. done!\n"
     ]
    }
   ],
   "source": [
    "House_neurons=[]\n",
    "for file in all_files:\n",
    "    taggram, tags, features = extractor(House_dir+'/'+file, model='MTT_musicnn', extract_features=True)\n",
    "    House_neurons.append(features['penultimate'][1,:])\n",
    "    # freeze all previous layers, get the penultimate layer output as our input for future DNN training"
   ]
  },
  {
   "cell_type": "code",
   "execution_count": 16,
   "metadata": {},
   "outputs": [],
   "source": [
    "House_features = np.asarray(House_neurons)\n",
    "np.save('E:/techno/House',House_features) #save the output to local computer"
   ]
  },
  {
   "cell_type": "code",
   "execution_count": 17,
   "metadata": {},
   "outputs": [
    {
     "data": {
      "text/plain": [
       "(106, 200)"
      ]
     },
     "execution_count": 17,
     "metadata": {},
     "output_type": "execute_result"
    }
   ],
   "source": [
    "b=np.load('E:/techno/Minimal.npy') #load and preview the neurons\n",
    "b.shape"
   ]
  },
  {
   "cell_type": "markdown",
   "metadata": {},
   "source": [
    "*Note: There are six sub-genres here, so I actually looped through six folders and stored the output neurons locally by sub-genre*"
   ]
  },
  {
   "cell_type": "markdown",
   "metadata": {},
   "source": [
    "#Experiment"
   ]
  },
  {
   "cell_type": "code",
   "execution_count": 16,
   "metadata": {},
   "outputs": [
    {
     "name": "stdout",
     "output_type": "stream",
     "text": [
      "Computing spectrogram (w/ librosa) and tags (w/ tensorflow).. done!\n"
     ]
    }
   ],
   "source": [
    "taggram1, tags1, features1 = extractor('E:/techno/Moondancer.wav', model='MTT_musicnn', extract_features=True)"
   ]
  },
  {
   "cell_type": "code",
   "execution_count": 20,
   "metadata": {},
   "outputs": [],
   "source": [
    "input1=features1['penultimate'][1,:]\n",
    "input1=np.asarray(input1)\n",
    "np.save('E:/techno/Moondancer',input1)"
   ]
  },
  {
   "cell_type": "code",
   "execution_count": null,
   "metadata": {},
   "outputs": [],
   "source": [
    "np.load('E:/techno/Moondancer.npy')"
   ]
  },
  {
   "cell_type": "markdown",
   "metadata": {},
   "source": [
    "#Experiment 2"
   ]
  },
  {
   "cell_type": "code",
   "execution_count": 23,
   "metadata": {},
   "outputs": [
    {
     "name": "stdout",
     "output_type": "stream",
     "text": [
      "Computing spectrogram (w/ librosa) and tags (w/ tensorflow).. done!\n"
     ]
    }
   ],
   "source": [
    "taggram2, tags2, features2 = extractor('E:/techno/Aura.wav', model='MTT_musicnn', extract_features=True)"
   ]
  },
  {
   "cell_type": "code",
   "execution_count": 24,
   "metadata": {},
   "outputs": [],
   "source": [
    "input2=features2['penultimate'][1,:]\n",
    "input2=np.asarray(input2)\n",
    "np.save('E:/techno/Aura',input2)"
   ]
  },
  {
   "cell_type": "code",
   "execution_count": null,
   "metadata": {},
   "outputs": [],
   "source": [
    "np.load('E:/techno/Aura.npy')"
   ]
  },
  {
   "cell_type": "code",
   "execution_count": null,
   "metadata": {},
   "outputs": [],
   "source": []
  }
 ],
 "metadata": {
  "kernelspec": {
   "display_name": "Python 3",
   "language": "python",
   "name": "python3"
  },
  "language_info": {
   "codemirror_mode": {
    "name": "ipython",
    "version": 3
   },
   "file_extension": ".py",
   "mimetype": "text/x-python",
   "name": "python",
   "nbconvert_exporter": "python",
   "pygments_lexer": "ipython3",
   "version": "3.7.4"
  }
 },
 "nbformat": 4,
 "nbformat_minor": 4
}
